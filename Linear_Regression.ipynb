{
 "cells": [
  {
   "cell_type": "markdown",
   "metadata": {},
   "source": [
    "# Carbon Dioxide Emissions Prediction Model"
   ]
  },
  {
   "cell_type": "code",
   "execution_count": 1,
   "metadata": {},
   "outputs": [],
   "source": [
    "import matplotlib.pyplot as plt"
   ]
  },
  {
   "cell_type": "code",
   "execution_count": 3,
   "metadata": {},
   "outputs": [],
   "source": [
    "class LinearRegressionManual:\n",
    "    def __init__(self, lr=0.001, epochs=1000):\n",
    "        self.learning_rate = lr\n",
    "        self.epochs = epochs\n",
    "        self.weights = None\n",
    "        self.bias = None\n",
    "\n",
    "\n",
    "    def fit(self, X, Y):\n",
    "        sample_count, feature_count = len(X), len(X[0])\n",
    "        self.weights = [0] * feature_count\n",
    "        self.bias = 0\n",
    "\n",
    "        for _ in range(self.epochs):\n",
    "            y_preds = [self.bias] * sample_count\n",
    "            for i in range(sample_count):\n",
    "                for fi in range(feature_count):\n",
    "                    y_preds[i] += X[i][fi] * self.weights[fi]\n",
    "            \n",
    "            y_diff = [y_preds[i] - Y[i] for i in range(len(Y))]\n",
    "            bias_diff = (2/sample_count) * sum(y_diff)\n",
    "\n",
    "            weight_diff = [0] * feature_count\n",
    "            for i in range(sample_count):\n",
    "                for fi in range(feature_count):\n",
    "                    weight_diff[fi] += 2*(X[i][fi] * y_diff[i])\n",
    "            \n",
    "            for fi in range(feature_count):\n",
    "                weight_diff[fi] *= 1/sample_count\n",
    "            \n",
    "            self.bias -= self.learning_rate * bias_diff\n",
    "            for fi in range(len(self.weights)):\n",
    "                self.weights[fi] -= self.learning_rate * weight_diff[fi]\n",
    "            \n",
    "\n",
    "    def predict(self, X):\n",
    "        res = [self.bias] * len(X)\n",
    "        for i in range(len(X)):\n",
    "            for fi in range(len(X[0])):\n",
    "                res[i] += self.weights[fi] * X[i][fi]\n",
    "        \n",
    "        return res"
   ]
  }
 ],
 "metadata": {
  "kernelspec": {
   "display_name": "Python 3",
   "language": "python",
   "name": "python3"
  },
  "language_info": {
   "codemirror_mode": {
    "name": "ipython",
    "version": 3
   },
   "file_extension": ".py",
   "mimetype": "text/x-python",
   "name": "python",
   "nbconvert_exporter": "python",
   "pygments_lexer": "ipython3",
   "version": "3.12.4"
  }
 },
 "nbformat": 4,
 "nbformat_minor": 2
}
